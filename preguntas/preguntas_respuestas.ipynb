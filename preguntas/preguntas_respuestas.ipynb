{
 "cells": [
  {
   "cell_type": "code",
   "execution_count": 1,
   "id": "4971bc73",
   "metadata": {},
   "outputs": [],
   "source": [
    "import random"
   ]
  },
  {
   "cell_type": "code",
   "execution_count": 2,
   "id": "bf57a059",
   "metadata": {},
   "outputs": [],
   "source": [
    "quiz_geography={\n",
    "    \"¿Cuál es la capital de Australia?\":\"Canberra\",\n",
    "    \"¿Cuál es la frontera terrestre más larga del mundo?\":\"Canadá y Estados Unidos\",\n",
    "    \"¿En qué continente se encuentra la cordillera del Himalaya?\":\"Asia\",\n",
    "    \"¿Qué país es conocido como la 'Tierra del Sol Naciente'?\":\"Japón\",\n",
    "    \"¿Cuál es el océano más grande del planeta?\":\"Pacífico\",\n",
    "    \"¿En qué ciudad se encuentra la Torre Eiffel?\":\"París\",\n",
    "    \"¿Qué desierto es el mayor del mundo?\":\"Antártico\",\n",
    "    \"¿Cuál es la montaña más alta del mundo, si medimos desde su base en el fondo del océano hasta su cima?\":\"Mauna Kea\",\n",
    "    \"¿Cuántas estrellas tiene la bandera de Estados Unidos?\":\"50\",\n",
    "    \"¿Qué estrecho separa Europa de África?\":\"Estrecho de Gibraltar\"\n",
    "}"
   ]
  },
  {
   "cell_type": "code",
   "execution_count": 3,
   "id": "d13113b4",
   "metadata": {},
   "outputs": [],
   "source": [
    "score=0\n",
    "fails=0\n",
    "max_score=5\n",
    "max_fails=3\n",
    "questions_list=list(quiz_geography.items())"
   ]
  },
  {
   "cell_type": "code",
   "execution_count": 4,
   "id": "2f25c6d1",
   "metadata": {},
   "outputs": [],
   "source": [
    "def instructions():\n",
    "    print(\"=\"*50)\n",
    "    print(\"--- 🌍¡Te damos la bienvenida al QUIZ DE GEOGRAFÍA!🌍 ---\")\n",
    "    print(\"Para empezar a jugar, introduce tu nombre.\")\n",
    "    player_name=input(\"nombre\")\n",
    "    print(f\"¡Hola {player_name}!\")\n",
    "    print(f\"🎯 Tu objetivo es responder correctamente {max_score} preguntas.\")\n",
    "    print(f\"⚠️ Atención: Si tienes {max_fails} errores pierdes la partida.\")\n",
    "    print(\"¡SUERTE!\")\n",
    "    print(\"=\"*50)"
   ]
  },
  {
   "cell_type": "code",
   "execution_count": 5,
   "id": "e779b580",
   "metadata": {},
   "outputs": [],
   "source": [
    "def final_score():\n",
    "    print(\"=\"*50)\n",
    "    print(\"--- FIN DEL JUEGO ---\")\n",
    "    print(\"=\"*50)\n",
    "    if score==max_score:\n",
    "        print(\"🎉 ¡VICTORIA!\")\n",
    "        print(f\"Puntuación final: {score} aciertos y {fails} errores.\")\n",
    "    elif fails==max_fails:\n",
    "        print(\"💀 DERROTA\")\n",
    "        print(f\"Puntuación final: {score} aciertos y {fails} errores.\")\n",
    "    else:\n",
    "        print(f\"Se han agotado las preguntas. Puntuación final: {score} aciertos y {fails} errores.\")"
   ]
  },
  {
   "cell_type": "code",
   "execution_count": 6,
   "id": "c62e7b2a",
   "metadata": {},
   "outputs": [],
   "source": [
    "def play():\n",
    "    global score\n",
    "    global fails\n",
    "    global questions_list\n",
    "    instructions()\n",
    "    while score<max_score and fails<max_fails:\n",
    "        if not questions_list:\n",
    "            print(f\"Se han agotado las preguntas. Puntuación final: {score} aciertos y {fails} errores.\")\n",
    "            break\n",
    "        current_question=random.choice(questions_list)\n",
    "        question,correct_answer=current_question\n",
    "        correct_answer=correct_answer.lower()\n",
    "        print(\"\\n\"+\"=\"*50)\n",
    "        print(f\"Pregunta {score+fails+1}:\")\n",
    "        print(f\"{question}\")\n",
    "        player_answer=input('Indica tu respuesta').lower()\n",
    "        if player_answer==correct_answer:\n",
    "            score+=1\n",
    "            print(f\"✅ ¡{player_answer} es la respuesta correcta!\")\n",
    "        else:\n",
    "            fails+=1\n",
    "            print(f\"❌ '{player_answer}' no es correcto. La respuesta correcta es: {correct_answer}.\")\n",
    "        questions_list.remove(current_question)\n",
    "        print(f\"ESTADO AL FINAL DE LA RONDA: {score} aciertos | {fails} fallos.\")\n",
    "    final_score()"
   ]
  },
  {
   "cell_type": "code",
   "execution_count": 7,
   "id": "c27698c5",
   "metadata": {},
   "outputs": [
    {
     "name": "stdout",
     "output_type": "stream",
     "text": [
      "==================================================\n",
      "--- 🌍¡Te damos la bienvenida al QUIZ DE GEOGRAFÍA!🌍 ---\n",
      "Para empezar a jugar, introduce tu nombre.\n",
      "¡Hola Alba!\n",
      "🎯 Tu objetivo es responder correctamente 5 preguntas.\n",
      "⚠️ Atención: Si tienes 3 errores pierdes la partida.\n",
      "¡SUERTE!\n",
      "==================================================\n",
      "\n",
      "==================================================\n",
      "Pregunta 1:\n",
      "¿En qué continente se encuentra la cordillera del Himalaya?\n",
      "✅ ¡asia es la respuesta correcta!\n",
      "ESTADO AL FINAL DE LA RONDA: 1 aciertos | 0 fallos.\n",
      "\n",
      "==================================================\n",
      "Pregunta 2:\n",
      "¿Qué desierto es el mayor del mundo?\n",
      "✅ ¡antártico es la respuesta correcta!\n",
      "ESTADO AL FINAL DE LA RONDA: 2 aciertos | 0 fallos.\n",
      "\n",
      "==================================================\n",
      "Pregunta 3:\n",
      "¿Cuántas estrellas tiene la bandera de Estados Unidos?\n",
      "✅ ¡50 es la respuesta correcta!\n",
      "ESTADO AL FINAL DE LA RONDA: 3 aciertos | 0 fallos.\n",
      "\n",
      "==================================================\n",
      "Pregunta 4:\n",
      "¿Cuál es el océano más grande del planeta?\n",
      "❌ 'índico' no es correcto. La respuesta correcta es: pacífico.\n",
      "ESTADO AL FINAL DE LA RONDA: 3 aciertos | 1 fallos.\n",
      "\n",
      "==================================================\n",
      "Pregunta 5:\n",
      "¿Cuál es la montaña más alta del mundo, si medimos desde su base en el fondo del océano hasta su cima?\n",
      "✅ ¡mauna kea es la respuesta correcta!\n",
      "ESTADO AL FINAL DE LA RONDA: 4 aciertos | 1 fallos.\n",
      "\n",
      "==================================================\n",
      "Pregunta 6:\n",
      "¿Qué país es conocido como la 'Tierra del Sol Naciente'?\n",
      "✅ ¡japón es la respuesta correcta!\n",
      "ESTADO AL FINAL DE LA RONDA: 5 aciertos | 1 fallos.\n",
      "==================================================\n",
      "--- FIN DEL JUEGO ---\n",
      "==================================================\n",
      "🎉 ¡VICTORIA!\n",
      "Puntuación final: 5 aciertos y 1 errores.\n"
     ]
    }
   ],
   "source": [
    "play()"
   ]
  }
 ],
 "metadata": {
  "kernelspec": {
   "display_name": "base",
   "language": "python",
   "name": "python3"
  },
  "language_info": {
   "codemirror_mode": {
    "name": "ipython",
    "version": 3
   },
   "file_extension": ".py",
   "mimetype": "text/x-python",
   "name": "python",
   "nbconvert_exporter": "python",
   "pygments_lexer": "ipython3",
   "version": "3.12.7"
  }
 },
 "nbformat": 4,
 "nbformat_minor": 5
}
