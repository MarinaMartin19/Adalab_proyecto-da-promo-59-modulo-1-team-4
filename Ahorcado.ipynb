{
 "cells": [
  {
   "cell_type": "markdown",
   "id": "22540727",
   "metadata": {},
   "source": [
    " # Ahorcado\n",
    "\n",
    "- Reglas del juego del \"Ahorcado\":\n",
    "\n",
    "    - Un jugador elige una palabra secreta y dibuja un espacio para cada letra de la palabra.\n",
    "\n",
    "    - El otro jugador intenta adivinar letras para completar la palabra.\n",
    "\n",
    "    - Si el jugador adivinador adivina una letra correctamente, se revela en su lugar correspondiente.\n",
    "\n",
    "    - Si el jugador adivinador adivina incorrectamente, se dibuja una parte del cuerpo en la horca.\n",
    "\n",
    "    - El objetivo del jugador adivinador es adivinar la palabra antes de que se dibuje el dibujo completo en la horca.\n",
    "\n",
    "- Pistas para ejecutarlo:\n",
    "\n",
    "    1. Empieza por seleccionar una palabra secreta para que el jugador adivinador intente adivinar. Puedes crear una lista de palabras.\n",
    "\n",
    "    2. Inicializa el tablero de juego con guiones bajos (\"_\") para representar las letras no adivinadas.\n",
    "\n",
    "    3. Utiliza un bucle `while` para permitir que el jugador adivinador haga múltiples intentos hasta que adivine la palabra o se agoten los intentos.\n",
    "\n",
    "    4. Verifica si la letra adivinada por el jugador está en la palabra secreta y actualicen el tablero en consecuencia.\n",
    "\n",
    "    5. Lleva un seguimiento de las letras adivinadas y los intentos fallidos.\n",
    "\n",
    "    6. Determina las condiciones de victoria y derrota del juego, y salgan del bucle cuando se cumplan estas condiciones."
   ]
  },
  {
   "cell_type": "code",
   "execution_count": null,
   "id": "e26bb94a",
   "metadata": {},
   "outputs": [],
   "source": [
    "print(\"==== 🎮 Ahorcado: Adivina la palabra secreta (entre dos jugadores) 🎮====\")\n",
    "\n",
    "# Persona 1 ingresa la palabra secreta\n",
    "\n",
    "Palabra_secreta = input(\"Persona 1, escribe una palabra secreta: \").split().lower()\n",
    "\n",
    "# Para que la palabra escrita no se vea: \n",
    "\n",
    "print(\"\\n\" * 50)\n",
    "\n",
    "\n",
    "# Vamos a crear una lista de guiones, en función del largo de la palabra_secreta\n",
    "\n",
    "progreso = [\"_\"] *len(Palabra_secreta)\n",
    "\n",
    "# Definimos número de intentos \n",
    "\n",
    "intentos = 8\n",
    "\n",
    "#Lista con las letras que ya fueron probadas\n",
    "\n",
    "Letras_nombradas = []"
   ]
  }
 ],
 "metadata": {
  "kernelspec": {
   "display_name": "Python 3",
   "language": "python",
   "name": "python3"
  },
  "language_info": {
   "codemirror_mode": {
    "name": "ipython",
    "version": 3
   },
   "file_extension": ".py",
   "mimetype": "text/x-python",
   "name": "python",
   "nbconvert_exporter": "python",
   "pygments_lexer": "ipython3",
   "version": "3.13.7"
  }
 },
 "nbformat": 4,
 "nbformat_minor": 5
}
