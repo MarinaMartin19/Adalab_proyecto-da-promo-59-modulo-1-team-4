{
 "cells": [
  {
   "cell_type": "code",
   "execution_count": null,
   "id": "82d75e71",
   "metadata": {},
   "outputs": [],
   "source": [
    "# Importamos la librería random para seleccionar preguntas aleatorias\n",
    "import random\n",
    "\n",
    "# Paso 1: Creamos un diccionario con preguntas de COMIDA Y GEOGRAFÍA\n",
    "preguntas_geografia = {\n",
    "    \"Si alguien te ofrece tapas gratis con cada bebida y piensas esto es demasiado bueno para ser verdad, ¿en qué ciudad estás?\": \"granada\",\n",
    "    \"¿En qué ciudad comer un rabo de toro es tan normal que nadie se sorprende?\": \"cordoba\",\n",
    "    \"¿Dónde comer bocadillos de calamares es casi obligatorio?\": \"madrid\",\n",
    "    \"Si pedir pan con tomate no levanta sospechas de extrañeza, ¿en qué ciudad estás?\": \"barcelona\",\n",
    "    \"Si un plato de marmitako de bonito se sirve casi en cada restaurante de pescado, ¿dónde estás?\": \"bilbao\",\n",
    "    \"¿En qué ciudad pedir una paella es casi un arte?\": \"valencia\",\n",
    "    \"¿En qué ciudad el ternasco asado es el rey indiscutible de los menus?\": \"zaragoza\",\n",
    "    \"Si la morcilla es tan famosa que tiene hasta su propia denominacion de origen, ¿en qué ciudad estás?\": \"burgos\",\n",
    "    \"¿Dónde pedir un cachopo del tamaño de tu cabeza es completamente normal?\": \"asturias\",\n",
    "    \"Si te invitan a comer Rabas (calamares fritos), un aperitivo que sabe a mar y que se come principalmente los domingos, ¿en qué ciudad estás?\": \"santander\",\n",
    "    \"¿En qué ciudad las tortas de alma, unos dulces tradicionales de almendra y canela, son el souvenir gastronomico más buscado?\": \"teruel\",\n",
    "    \"¿En qué provincia las frituras de harina de garbanzo con pequeños crustaceos se llaman Tortillitas de Camarones?\": \"cadiz\",\n",
    "    \"¿En qué ciudad es tradicion comer buñuelos rellenos de cabello de angel llamados Borrachuelos?\": \"malaga\",\n",
    "    \"Si visitas la tierra donde el turron navideno es el producto estrella y se fabrica artesanalmente desde hace siglos, ¿dónde estás?\": \"alicante\",\n",
    "    \"¿Dónde comer cebollas asadas con las manos, mancharte hasta los codos de salsa negra y llevarlo todo con babero es una tradicion respetable?\": \"tarragona\",\n",
    "    \"¿Dónde un bollo frito con crema llamado xuixo es el desayuno estrella y nadie piensa en las calorias?\": \"gerona\",\n",
    "    \"Si comer caracoles asados en bandeja es toda una tradicion en primavera y verano, ¿en qué ciudad o provincia estás?\": \"lerida\"\n",
    "}\n",
    "\n",
    "# Paso 2: Creamos una función para iniciar el juego\n",
    "def jugar_geografia():\n",
    "    print(\"=\" * 70) #Esto imprime 70 signos de igualdad = seguidos, creando una especie de línea horizontal para decorar la pantalla.\n",
    "    print(\"🍷 JUEGO DE GASTRONOMÍA Y CIUDADES ESPAÑOLAS 🍷\")\n",
    "    print(\"=\" * 70)\n",
    "    print(\"\\nReglas del juego:\") #\\n es un carácter especial que representa un salto de línea.\n",
    "    print(\"- Adivina qué ciudad española corresponde a cada plato típico\")\n",
    "    print(\"- ¡Demuestra cuánto conoces de la gastronomía española!\")\n",
    "    print(\"- ¡Buena suerte!\\n\")\n",
    "    \n",
    "    # Paso 3: Creamos variables para llevar el conteo\n",
    "    respuestas_correctas = 0  # Cuenta cuántas respuestas correctas tiene el jugador\n",
    "    respuestas_incorrectas = 0  # Cuenta cuántas respuestas incorrectas tiene el jugador\n",
    "    preguntas_realizadas = []  # Lista para guardar preguntas ya hechas (evita repetir)\n",
    "    \n",
    "    # Paso 4: Bucle principal del juego\n",
    "    "
   ]
  }
 ],
 "metadata": {
  "language_info": {
   "name": "python"
  }
 },
 "nbformat": 4,
 "nbformat_minor": 5
}
