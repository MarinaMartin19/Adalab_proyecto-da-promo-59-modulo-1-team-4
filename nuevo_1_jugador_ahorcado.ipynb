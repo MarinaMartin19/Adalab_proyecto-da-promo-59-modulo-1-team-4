{
 "cells": [
  {
   "cell_type": "markdown",
   "id": "bf0f528c",
   "metadata": {},
   "source": [
    "# AHORCADO"
   ]
  },
  {
   "cell_type": "code",
   "execution_count": 33,
   "id": "a5d1f2f8",
   "metadata": {},
   "outputs": [
    {
     "name": "stdout",
     "output_type": "stream",
     "text": [
      "¡Bienvenido al juego del ahorcado!\n",
      "Adivina la palabra letra por letra\n",
      "La palabra tiene  _  4 letras.\n",
      "Incorrecto. Te quedan {3} intentos.\n",
      "Palabra: _ _ _ _ \n",
      "Incorrecto. Te quedan {2} intentos.\n",
      "Palabra: _ _ _ _ \n",
      "¡Correcto!\n",
      "Palabra: l _ _ _ \n",
      "¡Correcto!\n",
      "Palabra: l o _ o \n",
      "¡Correcto!\n",
      "Palabra: l o r o \n",
      "¡Felicidades! Has adivinado la palabra: loro\n"
     ]
    }
   ],
   "source": [
    "# LISTA DE PALABRAS POSBLES PARA EL JUEGO DEL AHORCADO\n",
    "palabras = [\"gato\",\"perro\",\"loro\", \"pez\", \"tortuga\", \"conejo\", \"cobaya\", \"iguana\"]\n",
    "\n",
    "#elegir una palabra al azar\n",
    "import random\n",
    "palabra_elegida = random.choice(palabras)\n",
    "letras_adivinadas = []\n",
    "intentos_maximos = 4\n",
    "\n",
    "intentos= 0\n",
    "no_encontro_palabra= True\n",
    "print(\"¡Bienvenido al juego del ahorcado!\") \n",
    "print(\"Adivina la palabra letra por letra\")\n",
    "\n",
    "print(\"La palabra tiene\", \" _ \", len(palabra_elegida), \"letras.\")  #\"mostrar guinoes iniciales\"\n",
    "\n",
    "while intentos < intentos_maximos and no_encontro_palabra: # char es cada letra de la palabra elegida\n",
    "    letra= input(\"Adivina las letras de que animal domestico es: \").lower()\n",
    "    if letra in palabra_elegida:\n",
    "        \n",
    "        print(\"¡Correcto!\")\n",
    "       \n",
    "        letras_adivinadas.append(letra)\n",
    "    \n",
    "    else:\n",
    "        intentos += 1\n",
    "        print(\"Incorrecto. Te quedan\", {intentos_maximos - intentos}, \"intentos.\")\n",
    "    # Mostrar la palabra con las letras adivinadas\n",
    "    palabra_mostrada = \"\"\n",
    "    for char in palabra_elegida:\n",
    "        if char in letras_adivinadas:\n",
    "            palabra_mostrada += char + \" \"\n",
    "        else:\n",
    "            palabra_mostrada += \"_ \"\n",
    "    print(\"Palabra:\", palabra_mostrada)        \n",
    "    no_encontro_palabra = palabra_mostrada.strip().replace(\" \", \"\") != palabra_elegida\n",
    "if no_encontro_palabra == False:\n",
    "        print(\"¡Felicidades! Has adivinado la palabra:\", palabra_elegida)\n",
    "        \n",
    "        \n",
    "        \n",
    "        \n",
    "else:\n",
    "    print(\"Has perdido. La palabra era:\", palabra_elegida)  \n"
   ]
  }
 ],
 "metadata": {
  "kernelspec": {
   "display_name": "Python 3",
   "language": "python",
   "name": "python3"
  },
  "language_info": {
   "codemirror_mode": {
    "name": "ipython",
    "version": 3
   },
   "file_extension": ".py",
   "mimetype": "text/x-python",
   "name": "python",
   "nbconvert_exporter": "python",
   "pygments_lexer": "ipython3",
   "version": "3.13.0b2"
  }
 },
 "nbformat": 4,
 "nbformat_minor": 5
}
